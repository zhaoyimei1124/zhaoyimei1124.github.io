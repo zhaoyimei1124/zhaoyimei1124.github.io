{
 "cells": [
  {
   "cell_type": "code",
   "execution_count": 129,
   "metadata": {},
   "outputs": [],
   "source": [
    "import pandas as pd\n",
    "import numpy as np\n",
    "from os import path\n",
    "from PIL import Image\n",
    "from wordcloud import WordCloud, STOPWORDS, ImageColorGenerator\n",
    "\n",
    "import matplotlib.pyplot as plt\n",
    "import geopandas as gpd\n",
    "import descartes\n",
    "from shapely.geometry import Point, Polygon"
   ]
  },
  {
   "cell_type": "code",
   "execution_count": 128,
   "metadata": {},
   "outputs": [
    {
     "name": "stdout",
     "output_type": "stream",
     "text": [
      "Collecting descartes\n",
      "  Downloading descartes-1.1.0-py3-none-any.whl (5.8 kB)\n",
      "Requirement already satisfied: matplotlib in /Users/emmyzhou/opt/anaconda3/lib/python3.7/site-packages (from descartes) (3.2.1)\n",
      "Requirement already satisfied: numpy>=1.11 in /Users/emmyzhou/opt/anaconda3/lib/python3.7/site-packages (from matplotlib->descartes) (1.18.1)\n",
      "Requirement already satisfied: kiwisolver>=1.0.1 in /Users/emmyzhou/opt/anaconda3/lib/python3.7/site-packages (from matplotlib->descartes) (1.2.0)\n",
      "Requirement already satisfied: cycler>=0.10 in /Users/emmyzhou/opt/anaconda3/lib/python3.7/site-packages (from matplotlib->descartes) (0.10.0)\n",
      "Requirement already satisfied: python-dateutil>=2.1 in /Users/emmyzhou/opt/anaconda3/lib/python3.7/site-packages (from matplotlib->descartes) (2.8.1)\n",
      "Requirement already satisfied: pyparsing!=2.0.4,!=2.1.2,!=2.1.6,>=2.0.1 in /Users/emmyzhou/opt/anaconda3/lib/python3.7/site-packages (from matplotlib->descartes) (2.4.7)\n",
      "Requirement already satisfied: six in /Users/emmyzhou/opt/anaconda3/lib/python3.7/site-packages (from cycler>=0.10->matplotlib->descartes) (1.14.0)\n",
      "Installing collected packages: descartes\n",
      "Successfully installed descartes-1.1.0\n",
      "\u001b[33mWARNING: You are using pip version 20.2.4; however, version 20.3.3 is available.\n",
      "You should consider upgrading via the '/Users/emmyzhou/opt/anaconda3/bin/python -m pip install --upgrade pip' command.\u001b[0m\n",
      "Note: you may need to restart the kernel to use updated packages.\n"
     ]
    }
   ],
   "source": [
    "pip install descartes"
   ]
  },
  {
   "cell_type": "code",
   "execution_count": 125,
   "metadata": {},
   "outputs": [
    {
     "name": "stdout",
     "output_type": "stream",
     "text": [
      "Collecting geopandas\n",
      "  Downloading geopandas-0.8.1-py2.py3-none-any.whl (962 kB)\n",
      "\u001b[K     |████████████████████████████████| 962 kB 2.9 MB/s eta 0:00:01\n",
      "\u001b[?25hCollecting pyproj>=2.2.0\n",
      "  Downloading pyproj-3.0.0.post1-cp37-cp37m-macosx_10_9_x86_64.whl (7.4 MB)\n",
      "\u001b[K     |████████████████████████████████| 7.4 MB 680 kB/s eta 0:00:01     |███████▍                        | 1.7 MB 3.5 MB/s eta 0:00:02     |██████████████████▏             | 4.2 MB 396 kB/s eta 0:00:09     |███████████████████████         | 5.3 MB 396 kB/s eta 0:00:06\n",
      "\u001b[?25hCollecting shapely\n",
      "  Downloading Shapely-1.7.1-cp37-cp37m-macosx_10_9_x86_64.whl (1.0 MB)\n",
      "\u001b[K     |████████████████████████████████| 1.0 MB 2.8 MB/s eta 0:00:01\n",
      "\u001b[?25hCollecting fiona\n",
      "  Downloading Fiona-1.8.18-cp37-cp37m-macosx_10_9_x86_64.whl (14.8 MB)\n",
      "\u001b[K     |████████████████████████████████| 14.8 MB 2.3 MB/s eta 0:00:01\n",
      "\u001b[?25hRequirement already satisfied: pandas>=0.23.0 in /Users/emmyzhou/opt/anaconda3/lib/python3.7/site-packages (from geopandas) (1.0.3)\n",
      "Requirement already satisfied: certifi in /Users/emmyzhou/opt/anaconda3/lib/python3.7/site-packages (from pyproj>=2.2.0->geopandas) (2020.4.5.1)\n",
      "Collecting cligj>=0.5\n",
      "  Downloading cligj-0.7.1-py3-none-any.whl (7.1 kB)\n",
      "Collecting click-plugins>=1.0\n",
      "  Downloading click_plugins-1.1.1-py2.py3-none-any.whl (7.5 kB)\n",
      "Requirement already satisfied: attrs>=17 in /Users/emmyzhou/opt/anaconda3/lib/python3.7/site-packages (from fiona->geopandas) (19.3.0)\n",
      "Collecting munch\n",
      "  Downloading munch-2.5.0-py2.py3-none-any.whl (10 kB)\n",
      "Requirement already satisfied: click<8,>=4.0 in /Users/emmyzhou/opt/anaconda3/lib/python3.7/site-packages (from fiona->geopandas) (7.1.2)\n",
      "Requirement already satisfied: six>=1.7 in /Users/emmyzhou/opt/anaconda3/lib/python3.7/site-packages (from fiona->geopandas) (1.14.0)\n",
      "Requirement already satisfied: numpy>=1.13.3 in /Users/emmyzhou/opt/anaconda3/lib/python3.7/site-packages (from pandas>=0.23.0->geopandas) (1.18.1)\n",
      "Requirement already satisfied: pytz>=2017.2 in /Users/emmyzhou/opt/anaconda3/lib/python3.7/site-packages (from pandas>=0.23.0->geopandas) (2020.1)\n",
      "Requirement already satisfied: python-dateutil>=2.6.1 in /Users/emmyzhou/opt/anaconda3/lib/python3.7/site-packages (from pandas>=0.23.0->geopandas) (2.8.1)\n",
      "Installing collected packages: pyproj, shapely, cligj, click-plugins, munch, fiona, geopandas\n",
      "Successfully installed click-plugins-1.1.1 cligj-0.7.1 fiona-1.8.18 geopandas-0.8.1 munch-2.5.0 pyproj-3.0.0.post1 shapely-1.7.1\n",
      "\u001b[33mWARNING: You are using pip version 20.2.4; however, version 20.3.3 is available.\n",
      "You should consider upgrading via the '/Users/emmyzhou/opt/anaconda3/bin/python -m pip install --upgrade pip' command.\u001b[0m\n",
      "Note: you may need to restart the kernel to use updated packages.\n"
     ]
    }
   ],
   "source": [
    "pip install geopandas"
   ]
  },
  {
   "cell_type": "code",
   "execution_count": 47,
   "metadata": {},
   "outputs": [],
   "source": [
    "df = pd.read_csv('reviews.csv')"
   ]
  },
  {
   "cell_type": "code",
   "execution_count": 130,
   "metadata": {},
   "outputs": [
    {
     "data": {
      "text/plain": [
       "listing_id       0\n",
       "id               0\n",
       "date             0\n",
       "reviewer_id      0\n",
       "reviewer_name    0\n",
       "comments         0\n",
       "dtype: int64"
      ]
     },
     "execution_count": 130,
     "metadata": {},
     "output_type": "execute_result"
    }
   ],
   "source": [
    "df.head()\n",
    "df.shape\n",
    "# df.isna().sum()\n",
    "# df = df.dropna()\n",
    "# df.isna().sum()\n"
   ]
  },
  {
   "cell_type": "code",
   "execution_count": 32,
   "metadata": {},
   "outputs": [],
   "source": [
    "text = \" \".join(review for review in df.comments)"
   ]
  },
  {
   "cell_type": "code",
   "execution_count": 33,
   "metadata": {},
   "outputs": [
    {
     "data": {
      "text/plain": [
       "261696284"
      ]
     },
     "execution_count": 33,
     "metadata": {},
     "output_type": "execute_result"
    }
   ],
   "source": [
    "len(text)"
   ]
  },
  {
   "cell_type": "code",
   "execution_count": 44,
   "metadata": {},
   "outputs": [
    {
     "data": {
      "image/png": "[encoded data removed]",
      "text/plain": [
       "<Figure size 432x288 with 1 Axes>"
      ]
     },
     "metadata": {
      "needs_background": "light"
     },
     "output_type": "display_data"
    },
    {
     "data": {
      "text/plain": [
       "<Figure size 1440x1440 with 0 Axes>"
      ]
     },
     "metadata": {},
     "output_type": "display_data"
    }
   ],
   "source": [
    "# mask = np.array(Image.open(\"Airbnbs-colors.png\"))\n",
    "\n",
    "stopwords = set(STOPWORDS)\n",
    "stopwords.update([\"stay\", \"place\", \"everything\", \"great\", \"room\"])\n",
    "\n",
    "wordcloud = WordCloud(stopwords=stopwords,width=500, height=300, colormap=\"Oranges\", background_color=\"white\").generate(text)\n",
    "\n",
    "\n",
    "\n",
    "# image_colors = ImageColorGenerator(mask)\n",
    "plt.imshow(wordcloud, interpolation='bilinear')\n",
    "plt.axis(\"off\")\n",
    "plt.show()\n",
    "\n",
    "plt.figure(figsize=[20,20])\n",
    "\n",
    "plt.savefig(\"LA_review.png\", format=\"png\")\n"
   ]
  },
  {
   "cell_type": "code",
   "execution_count": 45,
   "metadata": {},
   "outputs": [
    {
     "data": {
      "text/plain": [
       "<wordcloud.wordcloud.WordCloud at 0x7f9d74a64890>"
      ]
     },
     "execution_count": 45,
     "metadata": {},
     "output_type": "execute_result"
    }
   ],
   "source": [
    "wordcloud.to_file(\"LA_review.png\")"
   ]
  },
  {
   "cell_type": "code",
   "execution_count": 57,
   "metadata": {},
   "outputs": [],
   "source": [
    "LA = pd.read_csv('listings.csv')"
   ]
  },
  {
   "cell_type": "code",
   "execution_count": 104,
   "metadata": {},
   "outputs": [
    {
     "name": "stdout",
     "output_type": "stream",
     "text": [
      "Index(['id', 'listing_url', 'scrape_id', 'last_scraped', 'name', 'description',\n",
      "       'neighborhood_overview', 'picture_url', 'host_id', 'host_url',\n",
      "       'host_name', 'host_since', 'host_location', 'host_about',\n",
      "       'host_response_time', 'host_response_rate', 'host_acceptance_rate',\n",
      "       'host_is_superhost', 'host_thumbnail_url', 'host_picture_url',\n",
      "       'host_neighbourhood', 'host_listings_count',\n",
      "       'host_total_listings_count', 'host_verifications',\n",
      "       'host_has_profile_pic', 'host_identity_verified', 'neighbourhood',\n",
      "       'neighbourhood_cleansed', 'neighbourhood_group_cleansed', 'latitude',\n",
      "       'longitude', 'property_type', 'room_type', 'accommodates', 'bathrooms',\n",
      "       'bathrooms_text', 'bedrooms', 'beds', 'amenities', 'price',\n",
      "       'minimum_nights', 'maximum_nights', 'minimum_minimum_nights',\n",
      "       'maximum_minimum_nights', 'minimum_maximum_nights',\n",
      "       'maximum_maximum_nights', 'minimum_nights_avg_ntm',\n",
      "       'maximum_nights_avg_ntm', 'calendar_updated', 'has_availability',\n",
      "       'availability_30', 'availability_60', 'availability_90',\n",
      "       'availability_365', 'calendar_last_scraped', 'number_of_reviews',\n",
      "       'number_of_reviews_ltm', 'number_of_reviews_l30d', 'first_review',\n",
      "       'last_review', 'review_scores_rating', 'review_scores_accuracy',\n",
      "       'review_scores_cleanliness', 'review_scores_checkin',\n",
      "       'review_scores_communication', 'review_scores_location',\n",
      "       'review_scores_value', 'license', 'instant_bookable',\n",
      "       'calculated_host_listings_count',\n",
      "       'calculated_host_listings_count_entire_homes',\n",
      "       'calculated_host_listings_count_private_rooms',\n",
      "       'calculated_host_listings_count_shared_rooms', 'reviews_per_month'],\n",
      "      dtype='object')\n"
     ]
    },
    {
     "data": {
      "text/plain": [
       "(30533, 74)"
      ]
     },
     "execution_count": 104,
     "metadata": {},
     "output_type": "execute_result"
    }
   ],
   "source": [
    "print(LA.head().columns)\n",
    "LA.shape\n"
   ]
  },
  {
   "cell_type": "code",
   "execution_count": 62,
   "metadata": {},
   "outputs": [
    {
     "data": {
      "text/plain": [
       "9.735181767457831"
      ]
     },
     "execution_count": 62,
     "metadata": {},
     "output_type": "execute_result"
    }
   ],
   "source": [
    "LA.review_scores_communication.dropna().mean()"
   ]
  },
  {
   "cell_type": "code",
   "execution_count": 67,
   "metadata": {},
   "outputs": [
    {
     "data": {
      "text/plain": [
       "9.712384060460323"
      ]
     },
     "execution_count": 67,
     "metadata": {},
     "output_type": "execute_result"
    }
   ],
   "source": [
    "LA.review_scores_location.dropna().mean()"
   ]
  },
  {
   "cell_type": "code",
   "execution_count": 65,
   "metadata": {},
   "outputs": [
    {
     "data": {
      "text/plain": [
       "9.433946057378458"
      ]
     },
     "execution_count": 65,
     "metadata": {},
     "output_type": "execute_result"
    }
   ],
   "source": [
    "LA.review_scores_value.dropna().mean()"
   ]
  },
  {
   "cell_type": "code",
   "execution_count": 70,
   "metadata": {},
   "outputs": [
    {
     "data": {
      "text/plain": [
       "9.433672374576199"
      ]
     },
     "execution_count": 70,
     "metadata": {},
     "output_type": "execute_result"
    }
   ],
   "source": [
    "LA.review_scores_cleanliness.dropna().mean()"
   ]
  },
  {
   "cell_type": "code",
   "execution_count": 77,
   "metadata": {},
   "outputs": [
    {
     "data": {
      "text/plain": [
       "9.621904639285868"
      ]
     },
     "execution_count": 77,
     "metadata": {},
     "output_type": "execute_result"
    }
   ],
   "source": [
    "LA.review_scores_accuracy.dropna().mean()"
   ]
  },
  {
   "cell_type": "markdown",
   "metadata": {},
   "source": [
    "# NYC Data"
   ]
  },
  {
   "cell_type": "code",
   "execution_count": 71,
   "metadata": {},
   "outputs": [],
   "source": [
    "nyc = pd.read_csv('nyclistings.csv')"
   ]
  },
  {
   "cell_type": "code",
   "execution_count": 73,
   "metadata": {},
   "outputs": [
    {
     "data": {
      "text/plain": [
       "9.727498110355253"
      ]
     },
     "execution_count": 73,
     "metadata": {},
     "output_type": "execute_result"
    }
   ],
   "source": [
    "nyc.review_scores_communication.dropna().mean()"
   ]
  },
  {
   "cell_type": "code",
   "execution_count": 74,
   "metadata": {},
   "outputs": [
    {
     "data": {
      "text/plain": [
       "9.594190620272315"
      ]
     },
     "execution_count": 74,
     "metadata": {},
     "output_type": "execute_result"
    }
   ],
   "source": [
    "nyc.review_scores_location.dropna().mean()"
   ]
  },
  {
   "cell_type": "code",
   "execution_count": 75,
   "metadata": {},
   "outputs": [
    {
     "data": {
      "text/plain": [
       "9.386070013010196"
      ]
     },
     "execution_count": 75,
     "metadata": {},
     "output_type": "execute_result"
    }
   ],
   "source": [
    "nyc.review_scores_value.dropna().mean()"
   ]
  },
  {
   "cell_type": "code",
   "execution_count": 76,
   "metadata": {},
   "outputs": [
    {
     "data": {
      "text/plain": [
       "9.268929661759817"
      ]
     },
     "execution_count": 76,
     "metadata": {},
     "output_type": "execute_result"
    }
   ],
   "source": [
    "nyc.review_scores_cleanliness.dropna().mean()"
   ]
  },
  {
   "cell_type": "code",
   "execution_count": 78,
   "metadata": {},
   "outputs": [
    {
     "data": {
      "text/plain": [
       "9.599546416691865"
      ]
     },
     "execution_count": 78,
     "metadata": {},
     "output_type": "execute_result"
    }
   ],
   "source": [
    "nyc.review_scores_accuracy.dropna().mean()"
   ]
  },
  {
   "cell_type": "code",
   "execution_count": 86,
   "metadata": {},
   "outputs": [],
   "source": [
    "newLA = LA[['id','review_scores_communication','review_scores_location','review_scores_value','review_scores_cleanliness']]\n",
    "newLA = newLA.dropna()"
   ]
  },
  {
   "cell_type": "code",
   "execution_count": 90,
   "metadata": {},
   "outputs": [],
   "source": [
    "newLA = newLA.sample(n=50, replace = False)"
   ]
  },
  {
   "cell_type": "code",
   "execution_count": 91,
   "metadata": {},
   "outputs": [
    {
     "data": {
      "text/plain": [
       "9.7"
      ]
     },
     "execution_count": 91,
     "metadata": {},
     "output_type": "execute_result"
    }
   ],
   "source": [
    "newLA.review_scores_communication.dropna().mean()"
   ]
  },
  {
   "cell_type": "code",
   "execution_count": 94,
   "metadata": {},
   "outputs": [],
   "source": [
    "# newLA"
   ]
  },
  {
   "cell_type": "code",
   "execution_count": 97,
   "metadata": {},
   "outputs": [
    {
     "data": {
      "text/plain": [
       "array(['Entire condominium', 'Private room in apartment',\n",
       "       'Entire apartment', 'Private room in guesthouse', 'Entire house',\n",
       "       'Private room in house', 'Entire guesthouse',\n",
       "       'Private room in loft', 'Room in hotel', 'Entire guest suite',\n",
       "       'Entire bungalow', 'Private room in townhouse',\n",
       "       'Private room in island', 'Entire townhouse',\n",
       "       'Private room in hostel', 'Room in boutique hotel',\n",
       "       'Private room in bungalow', 'Entire villa', 'Entire cottage',\n",
       "       'Entire cabin', 'Private room in villa',\n",
       "       'Private room in farm stay', 'Entire loft', 'Shared room in house',\n",
       "       'Shared room in hostel', 'Shared room in villa', 'Camper/RV',\n",
       "       'Farm stay', 'Private room in condominium',\n",
       "       'Private room in guest suite', 'Entire place',\n",
       "       'Room in aparthotel', 'Private room in treehouse', 'Treehouse',\n",
       "       'Shared room in apartment', 'Private room in bed and breakfast',\n",
       "       'Private room', 'Private room in castle', 'Barn', 'Yurt', 'Boat',\n",
       "       'Tiny house', 'Entire serviced apartment', 'Dome house',\n",
       "       'Shared room in tiny house', 'Shared room in condominium',\n",
       "       'Private room in cottage', 'Private room in cabin',\n",
       "       'Shared room in guesthouse', 'Tipi', 'Campsite',\n",
       "       'Private room in tent', 'Shared room in bed and breakfast',\n",
       "       'Shared room in guest suite', 'Private room in chalet',\n",
       "       'Earth house', 'Shared room in townhouse',\n",
       "       'Private room in tiny house', 'Shared room in bungalow',\n",
       "       'Private room in earth house', 'Room in hostel', 'Castle',\n",
       "       'Private room in resort', 'Entire floor', 'Shared room',\n",
       "       'Private room in yurt', 'Shared room in cabin',\n",
       "       'Shared room in aparthotel', 'Private room in camper/rv',\n",
       "       'Private room in serviced apartment', 'Room in serviced apartment',\n",
       "       'Train', 'Entire home/apt', 'Entire chalet',\n",
       "       'Private room in boat', 'Tent', 'Shared room in loft',\n",
       "       'Shared room in earth house', 'Room in bed and breakfast',\n",
       "       'Private room in minsu', 'Shared room in dorm',\n",
       "       'Private room in tipi', 'Shared room in dome house',\n",
       "       'Shared room in igloo', 'Private room in dome house',\n",
       "       'Private room in barn', 'Shared room in cottage', 'Cave',\n",
       "       'Entire resort', 'Private room in casa particular',\n",
       "       'Shared room in camper/rv', 'Shared room in tent', 'Lighthouse',\n",
       "       'Entire vacation home', 'Shared room in boutique hotel', 'Hut',\n",
       "       'Shared room in serviced apartment', 'Shared room in farm stay',\n",
       "       'Shared room in boat', 'Private room in houseboat'], dtype=object)"
      ]
     },
     "execution_count": 97,
     "metadata": {},
     "output_type": "execute_result"
    }
   ],
   "source": [
    "LA.property_type.unique()"
   ]
  },
  {
   "cell_type": "code",
   "execution_count": 98,
   "metadata": {},
   "outputs": [
    {
     "data": {
      "text/plain": [
       "array(['Entire home/apt', 'Private room', 'Hotel room', 'Shared room'],\n",
       "      dtype=object)"
      ]
     },
     "execution_count": 98,
     "metadata": {},
     "output_type": "execute_result"
    }
   ],
   "source": [
    "LA.room_type.unique()"
   ]
  },
  {
   "cell_type": "code",
   "execution_count": 99,
   "metadata": {},
   "outputs": [
    {
     "data": {
      "text/plain": [
       "0"
      ]
     },
     "execution_count": 99,
     "metadata": {},
     "output_type": "execute_result"
    }
   ],
   "source": [
    "LA.room_type.isna().sum()"
   ]
  },
  {
   "cell_type": "code",
   "execution_count": 103,
   "metadata": {},
   "outputs": [
    {
     "data": {
      "text/html": [
       "<div>\n",
       "<style scoped>\n",
       "    .dataframe tbody tr th:only-of-type {\n",
       "        vertical-align: middle;\n",
       "    }\n",
       "\n",
       "    .dataframe tbody tr th {\n",
       "        vertical-align: top;\n",
       "    }\n",
       "\n",
       "    .dataframe thead th {\n",
       "        text-align: right;\n",
       "    }\n",
       "</style>\n",
       "<table border=\"1\" class=\"dataframe\">\n",
       "  <thead>\n",
       "    <tr style=\"text-align: right;\">\n",
       "      <th></th>\n",
       "      <th>id</th>\n",
       "      <th>listing_url</th>\n",
       "      <th>scrape_id</th>\n",
       "      <th>last_scraped</th>\n",
       "      <th>name</th>\n",
       "      <th>description</th>\n",
       "      <th>neighborhood_overview</th>\n",
       "      <th>picture_url</th>\n",
       "      <th>host_id</th>\n",
       "      <th>host_url</th>\n",
       "      <th>...</th>\n",
       "      <th>review_scores_communication</th>\n",
       "      <th>review_scores_location</th>\n",
       "      <th>review_scores_value</th>\n",
       "      <th>license</th>\n",
       "      <th>instant_bookable</th>\n",
       "      <th>calculated_host_listings_count</th>\n",
       "      <th>calculated_host_listings_count_entire_homes</th>\n",
       "      <th>calculated_host_listings_count_private_rooms</th>\n",
       "      <th>calculated_host_listings_count_shared_rooms</th>\n",
       "      <th>reviews_per_month</th>\n",
       "    </tr>\n",
       "    <tr>\n",
       "      <th>room_type</th>\n",
       "      <th></th>\n",
       "      <th></th>\n",
       "      <th></th>\n",
       "      <th></th>\n",
       "      <th></th>\n",
       "      <th></th>\n",
       "      <th></th>\n",
       "      <th></th>\n",
       "      <th></th>\n",
       "      <th></th>\n",
       "      <th></th>\n",
       "      <th></th>\n",
       "      <th></th>\n",
       "      <th></th>\n",
       "      <th></th>\n",
       "      <th></th>\n",
       "      <th></th>\n",
       "      <th></th>\n",
       "      <th></th>\n",
       "      <th></th>\n",
       "      <th></th>\n",
       "    </tr>\n",
       "  </thead>\n",
       "  <tbody>\n",
       "    <tr>\n",
       "      <th>Entire home/apt</th>\n",
       "      <td>19635</td>\n",
       "      <td>19635</td>\n",
       "      <td>19635</td>\n",
       "      <td>19635</td>\n",
       "      <td>19635</td>\n",
       "      <td>19191</td>\n",
       "      <td>13316</td>\n",
       "      <td>19635</td>\n",
       "      <td>19635</td>\n",
       "      <td>19635</td>\n",
       "      <td>...</td>\n",
       "      <td>15289</td>\n",
       "      <td>15283</td>\n",
       "      <td>15281</td>\n",
       "      <td>4236</td>\n",
       "      <td>19635</td>\n",
       "      <td>19635</td>\n",
       "      <td>19635</td>\n",
       "      <td>19635</td>\n",
       "      <td>19635</td>\n",
       "      <td>15594</td>\n",
       "    </tr>\n",
       "    <tr>\n",
       "      <th>Hotel room</th>\n",
       "      <td>155</td>\n",
       "      <td>155</td>\n",
       "      <td>155</td>\n",
       "      <td>155</td>\n",
       "      <td>155</td>\n",
       "      <td>148</td>\n",
       "      <td>107</td>\n",
       "      <td>155</td>\n",
       "      <td>155</td>\n",
       "      <td>155</td>\n",
       "      <td>...</td>\n",
       "      <td>137</td>\n",
       "      <td>137</td>\n",
       "      <td>137</td>\n",
       "      <td>82</td>\n",
       "      <td>155</td>\n",
       "      <td>155</td>\n",
       "      <td>155</td>\n",
       "      <td>155</td>\n",
       "      <td>155</td>\n",
       "      <td>137</td>\n",
       "    </tr>\n",
       "    <tr>\n",
       "      <th>Private room</th>\n",
       "      <td>9750</td>\n",
       "      <td>9750</td>\n",
       "      <td>9750</td>\n",
       "      <td>9750</td>\n",
       "      <td>9748</td>\n",
       "      <td>9268</td>\n",
       "      <td>6087</td>\n",
       "      <td>9750</td>\n",
       "      <td>9750</td>\n",
       "      <td>9750</td>\n",
       "      <td>...</td>\n",
       "      <td>7296</td>\n",
       "      <td>7292</td>\n",
       "      <td>7291</td>\n",
       "      <td>1565</td>\n",
       "      <td>9750</td>\n",
       "      <td>9750</td>\n",
       "      <td>9750</td>\n",
       "      <td>9750</td>\n",
       "      <td>9750</td>\n",
       "      <td>7482</td>\n",
       "    </tr>\n",
       "    <tr>\n",
       "      <th>Shared room</th>\n",
       "      <td>993</td>\n",
       "      <td>993</td>\n",
       "      <td>993</td>\n",
       "      <td>993</td>\n",
       "      <td>993</td>\n",
       "      <td>919</td>\n",
       "      <td>450</td>\n",
       "      <td>993</td>\n",
       "      <td>993</td>\n",
       "      <td>993</td>\n",
       "      <td>...</td>\n",
       "      <td>577</td>\n",
       "      <td>576</td>\n",
       "      <td>575</td>\n",
       "      <td>166</td>\n",
       "      <td>993</td>\n",
       "      <td>993</td>\n",
       "      <td>993</td>\n",
       "      <td>993</td>\n",
       "      <td>993</td>\n",
       "      <td>589</td>\n",
       "    </tr>\n",
       "  </tbody>\n",
       "</table>\n",
       "<p>4 rows × 73 columns</p>\n",
       "</div>"
      ],
      "text/plain": [
       "                    id  listing_url  scrape_id  last_scraped   name  \\\n",
       "room_type                                                             \n",
       "Entire home/apt  19635        19635      19635         19635  19635   \n",
       "Hotel room         155          155        155           155    155   \n",
       "Private room      9750         9750       9750          9750   9748   \n",
       "Shared room        993          993        993           993    993   \n",
       "\n",
       "                 description  neighborhood_overview  picture_url  host_id  \\\n",
       "room_type                                                                   \n",
       "Entire home/apt        19191                  13316        19635    19635   \n",
       "Hotel room               148                    107          155      155   \n",
       "Private room            9268                   6087         9750     9750   \n",
       "Shared room              919                    450          993      993   \n",
       "\n",
       "                 host_url  ...  review_scores_communication  \\\n",
       "room_type                  ...                                \n",
       "Entire home/apt     19635  ...                        15289   \n",
       "Hotel room            155  ...                          137   \n",
       "Private room         9750  ...                         7296   \n",
       "Shared room           993  ...                          577   \n",
       "\n",
       "                 review_scores_location  review_scores_value  license  \\\n",
       "room_type                                                               \n",
       "Entire home/apt                   15283                15281     4236   \n",
       "Hotel room                          137                  137       82   \n",
       "Private room                       7292                 7291     1565   \n",
       "Shared room                         576                  575      166   \n",
       "\n",
       "                 instant_bookable  calculated_host_listings_count  \\\n",
       "room_type                                                           \n",
       "Entire home/apt             19635                           19635   \n",
       "Hotel room                    155                             155   \n",
       "Private room                 9750                            9750   \n",
       "Shared room                   993                             993   \n",
       "\n",
       "                 calculated_host_listings_count_entire_homes  \\\n",
       "room_type                                                      \n",
       "Entire home/apt                                        19635   \n",
       "Hotel room                                               155   \n",
       "Private room                                            9750   \n",
       "Shared room                                              993   \n",
       "\n",
       "                 calculated_host_listings_count_private_rooms  \\\n",
       "room_type                                                       \n",
       "Entire home/apt                                         19635   \n",
       "Hotel room                                                155   \n",
       "Private room                                             9750   \n",
       "Shared room                                               993   \n",
       "\n",
       "                 calculated_host_listings_count_shared_rooms  \\\n",
       "room_type                                                      \n",
       "Entire home/apt                                        19635   \n",
       "Hotel room                                               155   \n",
       "Private room                                            9750   \n",
       "Shared room                                              993   \n",
       "\n",
       "                 reviews_per_month  \n",
       "room_type                           \n",
       "Entire home/apt              15594  \n",
       "Hotel room                     137  \n",
       "Private room                  7482  \n",
       "Shared room                    589  \n",
       "\n",
       "[4 rows x 73 columns]"
      ]
     },
     "execution_count": 103,
     "metadata": {},
     "output_type": "execute_result"
    }
   ],
   "source": [
    "LA.groupby('room_type').count()"
   ]
  },
  {
   "cell_type": "code",
   "execution_count": 105,
   "metadata": {},
   "outputs": [
    {
     "data": {
      "text/plain": [
       "0.643074706055743"
      ]
     },
     "execution_count": 105,
     "metadata": {},
     "output_type": "execute_result"
    }
   ],
   "source": [
    "19635/30533"
   ]
  },
  {
   "cell_type": "code",
   "execution_count": 106,
   "metadata": {},
   "outputs": [
    {
     "data": {
      "text/plain": [
       "0.0050764746340025545"
      ]
     },
     "execution_count": 106,
     "metadata": {},
     "output_type": "execute_result"
    }
   ],
   "source": [
    "155/30533"
   ]
  },
  {
   "cell_type": "code",
   "execution_count": 107,
   "metadata": {},
   "outputs": [
    {
     "data": {
      "text/plain": [
       "0.3193266302033865"
      ]
     },
     "execution_count": 107,
     "metadata": {},
     "output_type": "execute_result"
    }
   ],
   "source": [
    "9750/30533"
   ]
  },
  {
   "cell_type": "code",
   "execution_count": 108,
   "metadata": {},
   "outputs": [
    {
     "data": {
      "text/plain": [
       "0.03252218910686798"
      ]
     },
     "execution_count": 108,
     "metadata": {},
     "output_type": "execute_result"
    }
   ],
   "source": [
    "993/30533"
   ]
  },
  {
   "cell_type": "code",
   "execution_count": 112,
   "metadata": {},
   "outputs": [
    {
     "data": {
      "text/html": [
       "<div>\n",
       "<style scoped>\n",
       "    .dataframe tbody tr th:only-of-type {\n",
       "        vertical-align: middle;\n",
       "    }\n",
       "\n",
       "    .dataframe tbody tr th {\n",
       "        vertical-align: top;\n",
       "    }\n",
       "\n",
       "    .dataframe thead th {\n",
       "        text-align: right;\n",
       "    }\n",
       "</style>\n",
       "<table border=\"1\" class=\"dataframe\">\n",
       "  <thead>\n",
       "    <tr style=\"text-align: right;\">\n",
       "      <th></th>\n",
       "      <th>latitude</th>\n",
       "      <th>longitude</th>\n",
       "    </tr>\n",
       "  </thead>\n",
       "  <tbody>\n",
       "    <tr>\n",
       "      <th>0</th>\n",
       "      <td>33.98209</td>\n",
       "      <td>-118.38494</td>\n",
       "    </tr>\n",
       "    <tr>\n",
       "      <th>1</th>\n",
       "      <td>34.09768</td>\n",
       "      <td>-118.34602</td>\n",
       "    </tr>\n",
       "    <tr>\n",
       "      <th>2</th>\n",
       "      <td>34.00475</td>\n",
       "      <td>-118.48127</td>\n",
       "    </tr>\n",
       "    <tr>\n",
       "      <th>3</th>\n",
       "      <td>33.87619</td>\n",
       "      <td>-118.11397</td>\n",
       "    </tr>\n",
       "    <tr>\n",
       "      <th>4</th>\n",
       "      <td>33.98750</td>\n",
       "      <td>-118.43200</td>\n",
       "    </tr>\n",
       "    <tr>\n",
       "      <th>...</th>\n",
       "      <td>...</td>\n",
       "      <td>...</td>\n",
       "    </tr>\n",
       "    <tr>\n",
       "      <th>30528</th>\n",
       "      <td>33.99456</td>\n",
       "      <td>-118.47314</td>\n",
       "    </tr>\n",
       "    <tr>\n",
       "      <th>30529</th>\n",
       "      <td>34.10220</td>\n",
       "      <td>-118.34663</td>\n",
       "    </tr>\n",
       "    <tr>\n",
       "      <th>30530</th>\n",
       "      <td>34.05945</td>\n",
       "      <td>-118.44134</td>\n",
       "    </tr>\n",
       "    <tr>\n",
       "      <th>30531</th>\n",
       "      <td>34.05036</td>\n",
       "      <td>-118.26509</td>\n",
       "    </tr>\n",
       "    <tr>\n",
       "      <th>30532</th>\n",
       "      <td>33.89514</td>\n",
       "      <td>-118.12646</td>\n",
       "    </tr>\n",
       "  </tbody>\n",
       "</table>\n",
       "<p>30533 rows × 2 columns</p>\n",
       "</div>"
      ],
      "text/plain": [
       "       latitude  longitude\n",
       "0      33.98209 -118.38494\n",
       "1      34.09768 -118.34602\n",
       "2      34.00475 -118.48127\n",
       "3      33.87619 -118.11397\n",
       "4      33.98750 -118.43200\n",
       "...         ...        ...\n",
       "30528  33.99456 -118.47314\n",
       "30529  34.10220 -118.34663\n",
       "30530  34.05945 -118.44134\n",
       "30531  34.05036 -118.26509\n",
       "30532  33.89514 -118.12646\n",
       "\n",
       "[30533 rows x 2 columns]"
      ]
     },
     "execution_count": 112,
     "metadata": {},
     "output_type": "execute_result"
    }
   ],
   "source": [
    "geoLA = LA[['latitude','longitude']]"
   ]
  },
  {
   "cell_type": "code",
   "execution_count": null,
   "metadata": {},
   "outputs": [],
   "source": []
  },
  {
   "cell_type": "code",
   "execution_count": 119,
   "metadata": {},
   "outputs": [
    {
     "data": {
      "text/html": [
       "<div>\n",
       "<style scoped>\n",
       "    .dataframe tbody tr th:only-of-type {\n",
       "        vertical-align: middle;\n",
       "    }\n",
       "\n",
       "    .dataframe tbody tr th {\n",
       "        vertical-align: top;\n",
       "    }\n",
       "\n",
       "    .dataframe thead th {\n",
       "        text-align: right;\n",
       "    }\n",
       "</style>\n",
       "<table border=\"1\" class=\"dataframe\">\n",
       "  <thead>\n",
       "    <tr style=\"text-align: right;\">\n",
       "      <th></th>\n",
       "      <th>id</th>\n",
       "      <th>listing_url</th>\n",
       "      <th>scrape_id</th>\n",
       "      <th>last_scraped</th>\n",
       "      <th>name</th>\n",
       "      <th>description</th>\n",
       "      <th>neighborhood_overview</th>\n",
       "      <th>picture_url</th>\n",
       "      <th>host_id</th>\n",
       "      <th>host_url</th>\n",
       "      <th>...</th>\n",
       "      <th>review_scores_communication</th>\n",
       "      <th>review_scores_location</th>\n",
       "      <th>review_scores_value</th>\n",
       "      <th>license</th>\n",
       "      <th>instant_bookable</th>\n",
       "      <th>calculated_host_listings_count</th>\n",
       "      <th>calculated_host_listings_count_entire_homes</th>\n",
       "      <th>calculated_host_listings_count_private_rooms</th>\n",
       "      <th>calculated_host_listings_count_shared_rooms</th>\n",
       "      <th>reviews_per_month</th>\n",
       "    </tr>\n",
       "    <tr>\n",
       "      <th>room_type</th>\n",
       "      <th></th>\n",
       "      <th></th>\n",
       "      <th></th>\n",
       "      <th></th>\n",
       "      <th></th>\n",
       "      <th></th>\n",
       "      <th></th>\n",
       "      <th></th>\n",
       "      <th></th>\n",
       "      <th></th>\n",
       "      <th></th>\n",
       "      <th></th>\n",
       "      <th></th>\n",
       "      <th></th>\n",
       "      <th></th>\n",
       "      <th></th>\n",
       "      <th></th>\n",
       "      <th></th>\n",
       "      <th></th>\n",
       "      <th></th>\n",
       "      <th></th>\n",
       "    </tr>\n",
       "  </thead>\n",
       "  <tbody>\n",
       "    <tr>\n",
       "      <th>Entire home/apt</th>\n",
       "      <td>22860</td>\n",
       "      <td>22860</td>\n",
       "      <td>22860</td>\n",
       "      <td>22860</td>\n",
       "      <td>22852</td>\n",
       "      <td>22438</td>\n",
       "      <td>14721</td>\n",
       "      <td>22860</td>\n",
       "      <td>22860</td>\n",
       "      <td>22860</td>\n",
       "      <td>...</td>\n",
       "      <td>17473</td>\n",
       "      <td>17461</td>\n",
       "      <td>17460</td>\n",
       "      <td>0</td>\n",
       "      <td>22860</td>\n",
       "      <td>22860</td>\n",
       "      <td>22860</td>\n",
       "      <td>22860</td>\n",
       "      <td>22860</td>\n",
       "      <td>17940</td>\n",
       "    </tr>\n",
       "    <tr>\n",
       "      <th>Hotel room</th>\n",
       "      <td>388</td>\n",
       "      <td>388</td>\n",
       "      <td>388</td>\n",
       "      <td>388</td>\n",
       "      <td>388</td>\n",
       "      <td>367</td>\n",
       "      <td>218</td>\n",
       "      <td>388</td>\n",
       "      <td>388</td>\n",
       "      <td>388</td>\n",
       "      <td>...</td>\n",
       "      <td>277</td>\n",
       "      <td>277</td>\n",
       "      <td>277</td>\n",
       "      <td>0</td>\n",
       "      <td>388</td>\n",
       "      <td>388</td>\n",
       "      <td>388</td>\n",
       "      <td>388</td>\n",
       "      <td>388</td>\n",
       "      <td>278</td>\n",
       "    </tr>\n",
       "    <tr>\n",
       "      <th>Private room</th>\n",
       "      <td>20498</td>\n",
       "      <td>20498</td>\n",
       "      <td>20498</td>\n",
       "      <td>20498</td>\n",
       "      <td>20491</td>\n",
       "      <td>19721</td>\n",
       "      <td>12698</td>\n",
       "      <td>20498</td>\n",
       "      <td>20498</td>\n",
       "      <td>20498</td>\n",
       "      <td>...</td>\n",
       "      <td>14683</td>\n",
       "      <td>14670</td>\n",
       "      <td>14672</td>\n",
       "      <td>0</td>\n",
       "      <td>20498</td>\n",
       "      <td>20498</td>\n",
       "      <td>20498</td>\n",
       "      <td>20498</td>\n",
       "      <td>20498</td>\n",
       "      <td>15270</td>\n",
       "    </tr>\n",
       "    <tr>\n",
       "      <th>Shared room</th>\n",
       "      <td>920</td>\n",
       "      <td>920</td>\n",
       "      <td>920</td>\n",
       "      <td>920</td>\n",
       "      <td>919</td>\n",
       "      <td>859</td>\n",
       "      <td>570</td>\n",
       "      <td>920</td>\n",
       "      <td>920</td>\n",
       "      <td>920</td>\n",
       "      <td>...</td>\n",
       "      <td>642</td>\n",
       "      <td>642</td>\n",
       "      <td>642</td>\n",
       "      <td>0</td>\n",
       "      <td>920</td>\n",
       "      <td>920</td>\n",
       "      <td>920</td>\n",
       "      <td>920</td>\n",
       "      <td>920</td>\n",
       "      <td>661</td>\n",
       "    </tr>\n",
       "  </tbody>\n",
       "</table>\n",
       "<p>4 rows × 73 columns</p>\n",
       "</div>"
      ],
      "text/plain": [
       "                    id  listing_url  scrape_id  last_scraped   name  \\\n",
       "room_type                                                             \n",
       "Entire home/apt  22860        22860      22860         22860  22852   \n",
       "Hotel room         388          388        388           388    388   \n",
       "Private room     20498        20498      20498         20498  20491   \n",
       "Shared room        920          920        920           920    919   \n",
       "\n",
       "                 description  neighborhood_overview  picture_url  host_id  \\\n",
       "room_type                                                                   \n",
       "Entire home/apt        22438                  14721        22860    22860   \n",
       "Hotel room               367                    218          388      388   \n",
       "Private room           19721                  12698        20498    20498   \n",
       "Shared room              859                    570          920      920   \n",
       "\n",
       "                 host_url  ...  review_scores_communication  \\\n",
       "room_type                  ...                                \n",
       "Entire home/apt     22860  ...                        17473   \n",
       "Hotel room            388  ...                          277   \n",
       "Private room        20498  ...                        14683   \n",
       "Shared room           920  ...                          642   \n",
       "\n",
       "                 review_scores_location  review_scores_value  license  \\\n",
       "room_type                                                               \n",
       "Entire home/apt                   17461                17460        0   \n",
       "Hotel room                          277                  277        0   \n",
       "Private room                      14670                14672        0   \n",
       "Shared room                         642                  642        0   \n",
       "\n",
       "                 instant_bookable  calculated_host_listings_count  \\\n",
       "room_type                                                           \n",
       "Entire home/apt             22860                           22860   \n",
       "Hotel room                    388                             388   \n",
       "Private room                20498                           20498   \n",
       "Shared room                   920                             920   \n",
       "\n",
       "                 calculated_host_listings_count_entire_homes  \\\n",
       "room_type                                                      \n",
       "Entire home/apt                                        22860   \n",
       "Hotel room                                               388   \n",
       "Private room                                           20498   \n",
       "Shared room                                              920   \n",
       "\n",
       "                 calculated_host_listings_count_private_rooms  \\\n",
       "room_type                                                       \n",
       "Entire home/apt                                         22860   \n",
       "Hotel room                                                388   \n",
       "Private room                                            20498   \n",
       "Shared room                                               920   \n",
       "\n",
       "                 calculated_host_listings_count_shared_rooms  \\\n",
       "room_type                                                      \n",
       "Entire home/apt                                        22860   \n",
       "Hotel room                                               388   \n",
       "Private room                                           20498   \n",
       "Shared room                                              920   \n",
       "\n",
       "                 reviews_per_month  \n",
       "room_type                           \n",
       "Entire home/apt              17940  \n",
       "Hotel room                     278  \n",
       "Private room                 15270  \n",
       "Shared room                    661  \n",
       "\n",
       "[4 rows x 73 columns]"
      ]
     },
     "execution_count": 119,
     "metadata": {},
     "output_type": "execute_result"
    }
   ],
   "source": [
    "nyc.room_type.isna().sum()\n",
    "nyc.groupby('room_type').count()\n",
    "# nyc.shape"
   ]
  },
  {
   "cell_type": "code",
   "execution_count": 120,
   "metadata": {},
   "outputs": [
    {
     "data": {
      "text/plain": [
       "0.5117986835624412"
      ]
     },
     "execution_count": 120,
     "metadata": {},
     "output_type": "execute_result"
    }
   ],
   "source": [
    "22860/44666"
   ]
  },
  {
   "cell_type": "code",
   "execution_count": 121,
   "metadata": {},
   "outputs": [
    {
     "data": {
      "text/plain": [
       "0.008686696816370394"
      ]
     },
     "execution_count": 121,
     "metadata": {},
     "output_type": "execute_result"
    }
   ],
   "source": [
    "388/44666"
   ]
  },
  {
   "cell_type": "code",
   "execution_count": 122,
   "metadata": {},
   "outputs": [
    {
     "data": {
      "text/plain": [
       "0.4589172972730936"
      ]
     },
     "execution_count": 122,
     "metadata": {},
     "output_type": "execute_result"
    }
   ],
   "source": [
    "20498/44666"
   ]
  },
  {
   "cell_type": "code",
   "execution_count": 123,
   "metadata": {},
   "outputs": [
    {
     "data": {
      "text/plain": [
       "0.02059732234809475"
      ]
     },
     "execution_count": 123,
     "metadata": {},
     "output_type": "execute_result"
    }
   ],
   "source": [
    "920/44666"
   ]
  },
  {
   "cell_type": "code",
   "execution_count": null,
   "metadata": {},
   "outputs": [],
   "source": []
  }
 ],
 "metadata": {
  "kernelspec": {
   "display_name": "Python 3",
   "language": "python",
   "name": "python3"
  },
  "language_info": {
   "codemirror_mode": {
    "name": "ipython",
    "version": 3
   },
   "file_extension": ".py",
   "mimetype": "text/x-python",
   "name": "python",
   "nbconvert_exporter": "python",
   "pygments_lexer": "ipython3",
   "version": "3.7.6"
  }
 },
 "nbformat": 4,
 "nbformat_minor": 4
}
